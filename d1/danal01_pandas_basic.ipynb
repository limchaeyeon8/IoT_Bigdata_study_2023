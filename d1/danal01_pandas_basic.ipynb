{
 "cells": [
  {
   "cell_type": "markdown",
   "metadata": {},
   "source": [
    "### Pandas 기초\n",
    "\n",
    "### 가상환경 설치\n",
    "\n",
    "Virtualenv 모듈 설치\n",
    "\n",
    "```\n",
    "> !pip install virtualenv\n",
    "```\n"
   ]
  },
  {
   "cell_type": "code",
   "execution_count": 1,
   "metadata": {},
   "outputs": [
    {
     "name": "stdout",
     "output_type": "stream",
     "text": [
      "Requirement already satisfied: virtualenv in c:\\dev\\langs\\python311\\lib\\site-packages (20.17.1)\n",
      "Requirement already satisfied: distlib<1,>=0.3.6 in c:\\dev\\langs\\python311\\lib\\site-packages (from virtualenv) (0.3.6)\n",
      "Requirement already satisfied: filelock<4,>=3.4.1 in c:\\dev\\langs\\python311\\lib\\site-packages (from virtualenv) (3.9.0)\n",
      "Requirement already satisfied: platformdirs<3,>=2.4 in c:\\dev\\langs\\python311\\lib\\site-packages (from virtualenv) (2.6.2)\n"
     ]
    }
   ],
   "source": [
    "!pip install virtualenv"
   ]
  },
  {
   "cell_type": "markdown",
   "metadata": {},
   "source": [
    "#### 가상환경 설정\n",
    "```\n",
    "> virtualenv da_env\n",
    "```\n",
    "(터미널에서 입력)\n",
    "\n",
    "- 주피터 노트북 커널을 변경 - da_env(Python 3.11.2) 로 변경\n",
    "- ipykernel 설치 필수 (anaconda, VSCode에서 주피터 노트북 사용시 필수)\n",
    "\n",
    "#### 가상환경 패키지 (pip) 확인"
   ]
  },
  {
   "cell_type": "code",
   "execution_count": 1,
   "metadata": {},
   "outputs": [
    {
     "name": "stdout",
     "output_type": "stream",
     "text": [
      "Package           Version\n",
      "----------------- -------\n",
      "asttokens         2.2.1\n",
      "backcall          0.2.0\n",
      "colorama          0.4.6\n",
      "comm              0.1.4\n",
      "debugpy           1.6.7\n",
      "decorator         5.1.1\n",
      "executing         1.2.0\n",
      "ipykernel         6.25.1\n",
      "ipython           8.14.0\n",
      "jedi              0.19.0\n",
      "jupyter_client    8.3.0\n",
      "jupyter_core      5.3.1\n",
      "matplotlib-inline 0.1.6\n",
      "nest-asyncio      1.5.7\n",
      "packaging         23.1\n",
      "parso             0.8.3\n",
      "pickleshare       0.7.5\n",
      "pip               23.0\n",
      "platformdirs      3.10.0\n",
      "prompt-toolkit    3.0.39\n",
      "psutil            5.9.5\n",
      "pure-eval         0.2.2\n",
      "Pygments          2.16.1\n",
      "python-dateutil   2.8.2\n",
      "pywin32           306\n",
      "pyzmq             25.1.0\n",
      "setuptools        67.1.0\n",
      "six               1.16.0\n",
      "stack-data        0.6.2\n",
      "tornado           6.3.2\n",
      "traitlets         5.9.0\n",
      "wcwidth           0.2.6\n",
      "wheel             0.38.4\n"
     ]
    },
    {
     "name": "stderr",
     "output_type": "stream",
     "text": [
      "\n",
      "[notice] A new release of pip is available: 23.0 -> 23.2.1\n",
      "[notice] To update, run: python.exe -m pip install --upgrade pip\n"
     ]
    }
   ],
   "source": [
    "!pip list"
   ]
  },
  {
   "cell_type": "markdown",
   "metadata": {},
   "source": [
    "### 판다스 설치\n",
    "```\n",
    "> !pip install pandas\n",
    "```\n",
    "\n",
    "- Pandas : 2.0.3\n",
    "- Numpy : 1.25.2"
   ]
  },
  {
   "cell_type": "code",
   "execution_count": 2,
   "metadata": {},
   "outputs": [
    {
     "name": "stdout",
     "output_type": "stream",
     "text": [
      "Collecting pandas\n",
      "  Downloading pandas-2.0.3-cp311-cp311-win_amd64.whl (10.6 MB)\n",
      "     ---------------------------------------- 0.0/10.6 MB ? eta -:--:--\n",
      "     - -------------------------------------- 0.3/10.6 MB 10.2 MB/s eta 0:00:02\n",
      "     --- ------------------------------------ 1.0/10.6 MB 12.1 MB/s eta 0:00:01\n",
      "     ------ --------------------------------- 1.8/10.6 MB 14.1 MB/s eta 0:00:01\n",
      "     ----------- ---------------------------- 3.0/10.6 MB 17.1 MB/s eta 0:00:01\n",
      "     ----------------- ---------------------- 4.5/10.6 MB 20.6 MB/s eta 0:00:01\n",
      "     ------------------------- -------------- 6.6/10.6 MB 24.9 MB/s eta 0:00:01\n",
      "     ----------------------------------- ---- 9.4/10.6 MB 29.9 MB/s eta 0:00:01\n",
      "     --------------------------------------  10.6/10.6 MB 34.4 MB/s eta 0:00:01\n",
      "     --------------------------------------- 10.6/10.6 MB 29.7 MB/s eta 0:00:00\n",
      "Requirement already satisfied: python-dateutil>=2.8.2 in c:\\source\\iot_bigdata_study_2023\\da_env\\lib\\site-packages (from pandas) (2.8.2)\n",
      "Collecting pytz>=2020.1\n",
      "  Downloading pytz-2023.3-py2.py3-none-any.whl (502 kB)\n",
      "     ---------------------------------------- 0.0/502.3 kB ? eta -:--:--\n",
      "     ---------------------------------------- 502.3/502.3 kB ? eta 0:00:00\n",
      "Collecting tzdata>=2022.1\n",
      "  Downloading tzdata-2023.3-py2.py3-none-any.whl (341 kB)\n",
      "     ---------------------------------------- 0.0/341.8 kB ? eta -:--:--\n",
      "     ---------------------------------------- 341.8/341.8 kB ? eta 0:00:00\n",
      "Collecting numpy>=1.21.0\n",
      "  Downloading numpy-1.25.2-cp311-cp311-win_amd64.whl (15.5 MB)\n",
      "     ---------------------------------------- 0.0/15.5 MB ? eta -:--:--\n",
      "     ------- ------------------------------- 3.1/15.5 MB 101.1 MB/s eta 0:00:01\n",
      "     ------------------- -------------------- 7.6/15.5 MB 97.9 MB/s eta 0:00:01\n",
      "     ------------------------------- ------ 12.7/15.5 MB 108.8 MB/s eta 0:00:01\n",
      "     -------------------------------------  15.5/15.5 MB 108.8 MB/s eta 0:00:01\n",
      "     --------------------------------------- 15.5/15.5 MB 72.5 MB/s eta 0:00:00\n",
      "Requirement already satisfied: six>=1.5 in c:\\source\\iot_bigdata_study_2023\\da_env\\lib\\site-packages (from python-dateutil>=2.8.2->pandas) (1.16.0)\n",
      "Installing collected packages: pytz, tzdata, numpy, pandas\n",
      "Successfully installed numpy-1.25.2 pandas-2.0.3 pytz-2023.3 tzdata-2023.3\n"
     ]
    },
    {
     "name": "stderr",
     "output_type": "stream",
     "text": [
      "\n",
      "[notice] A new release of pip is available: 23.0 -> 23.2.1\n",
      "[notice] To update, run: python.exe -m pip install --upgrade pip\n"
     ]
    }
   ],
   "source": [
    "!pip install pandas"
   ]
  },
  {
   "cell_type": "code",
   "execution_count": 3,
   "metadata": {},
   "outputs": [
    {
     "name": "stdout",
     "output_type": "stream",
     "text": [
      "Name: pandas\n",
      "Version: 2.0.3\n",
      "Summary: Powerful data structures for data analysis, time series, and statistics\n",
      "Home-page: \n",
      "Author: \n",
      "Author-email: The Pandas Development Team <pandas-dev@python.org>\n",
      "License: BSD 3-Clause License\n",
      "\n",
      "Copyright (c) 2008-2011, AQR Capital Management, LLC, Lambda Foundry, Inc. and PyData Development Team\n",
      "All rights reserved.\n",
      "\n",
      "Copyright (c) 2011-2023, Open source contributors.\n",
      "\n",
      "Redistribution and use in source and binary forms, with or without\n",
      "modification, are permitted provided that the following conditions are met:\n",
      "\n",
      "* Redistributions of source code must retain the above copyright notice, this\n",
      "  list of conditions and the following disclaimer.\n",
      "\n",
      "* Redistributions in binary form must reproduce the above copyright notice,\n",
      "  this list of conditions and the following disclaimer in the documentation\n",
      "  and/or other materials provided with the distribution.\n",
      "\n",
      "* Neither the name of the copyright holder nor the names of its\n",
      "  contributors may be used to endorse or promote products derived from\n",
      "  this software without specific prior written permission.\n",
      "\n",
      "THIS SOFTWARE IS PROVIDED BY THE COPYRIGHT HOLDERS AND CONTRIBUTORS \"AS IS\"\n",
      "AND ANY EXPRESS OR IMPLIED WARRANTIES, INCLUDING, BUT NOT LIMITED TO, THE\n",
      "IMPLIED WARRANTIES OF MERCHANTABILITY AND FITNESS FOR A PARTICULAR PURPOSE ARE\n",
      "DISCLAIMED. IN NO EVENT SHALL THE COPYRIGHT HOLDER OR CONTRIBUTORS BE LIABLE\n",
      "FOR ANY DIRECT, INDIRECT, INCIDENTAL, SPECIAL, EXEMPLARY, OR CONSEQUENTIAL\n",
      "DAMAGES (INCLUDING, BUT NOT LIMITED TO, PROCUREMENT OF SUBSTITUTE GOODS OR\n",
      "SERVICES; LOSS OF USE, DATA, OR PROFITS; OR BUSINESS INTERRUPTION) HOWEVER\n",
      "CAUSED AND ON ANY THEORY OF LIABILITY, WHETHER IN CONTRACT, STRICT LIABILITY,\n",
      "OR TORT (INCLUDING NEGLIGENCE OR OTHERWISE) ARISING IN ANY WAY OUT OF THE USE\n",
      "OF THIS SOFTWARE, EVEN IF ADVISED OF THE POSSIBILITY OF SUCH DAMAGE.\n",
      "\n",
      "Location: C:\\Source\\IoT_Bigdata_study_2023\\da_env\\Lib\\site-packages\n",
      "Requires: numpy, numpy, python-dateutil, pytz, tzdata\n",
      "Required-by: \n"
     ]
    }
   ],
   "source": [
    "!pip show pandas"
   ]
  },
  {
   "cell_type": "code",
   "execution_count": 4,
   "metadata": {},
   "outputs": [
    {
     "name": "stdout",
     "output_type": "stream",
     "text": [
      "Name: numpy\n",
      "Version: 1.25.2\n",
      "Summary: Fundamental package for array computing in Python\n",
      "Home-page: https://www.numpy.org\n",
      "Author: Travis E. Oliphant et al.\n",
      "Author-email: \n",
      "License: BSD-3-Clause\n",
      "Location: C:\\Source\\IoT_Bigdata_study_2023\\da_env\\Lib\\site-packages\n",
      "Requires: \n",
      "Required-by: pandas\n"
     ]
    }
   ],
   "source": [
    "!pip show numpy"
   ]
  },
  {
   "cell_type": "markdown",
   "metadata": {},
   "source": [
    "### 판다스 기초\n",
    "\n",
    "#### 개요\n",
    "\n",
    "액셀과 거의 동일한 테이블형태로 데이터를 핸들링할 수 있는 파이썬 모듈\n",
    "\n",
    "데이터 분석을 위한 추상 자료구조 (DataFrame!!!! <--- 핵심) 를 제공하는 데이터 분석도구임\n",
    "\n",
    "\n",
    "##### 기본 기능\n",
    "- 엑셀 / CSV / Json 등 데이터파일에서 데이터 읽어오기 -> 파이썬 메모리상에 로드\n",
    "- 데이터 처리 / 데이터 분석\n",
    "- 다시 엑셀 / CSV / Json 등 데이터파일에 저장\n",
    "\n",
    "##### Pandas 용어\n",
    "- Series, DataFrame\n",
    "- Index, Columns, Values, etc."
   ]
  },
  {
   "cell_type": "markdown",
   "metadata": {},
   "source": [
    "### 판다스 학습 시작!\n",
    "\n",
    "#### 시리즈 (Series)\n",
    "\n",
    "판다스에서 1차원 배열과 똑같은 자료형 (데이터 타입)\n",
    "\n",
    "<img src=\"https://velog.velcdn.com/images%2Fgjtjsdn1%2Fpost%2F41aab35d-d5bc-4a3f-b0fa-1c8770bf2eb9%2Fimage.png\" />\n",
    "\n",
    "\n",
    "#### 판다스 모듈 import\n",
    "\n",
    "```python\n",
    "> import pandas as pd\n",
    "```"
   ]
  },
  {
   "cell_type": "code",
   "execution_count": 5,
   "metadata": {},
   "outputs": [],
   "source": [
    "import pandas as pd"
   ]
  },
  {
   "cell_type": "markdown",
   "metadata": {},
   "source": [
    "#### 시리즈 생성\n",
    "\n",
    "<img src=\"https://img1.daumcdn.net/thumb/R1280x0/?scode=mtistory2&fname=https%3A%2F%2Ft1.daumcdn.net%2Fcfile%2Ftistory%2F995809335BFBCC922B\" width=\"500\">"
   ]
  },
  {
   "cell_type": "code",
   "execution_count": 8,
   "metadata": {},
   "outputs": [
    {
     "data": {
      "text/plain": [
       "이름    임자연\n",
       "국어     90\n",
       "영어    100\n",
       "수학     95\n",
       "미술    100\n",
       "Name: 기말고사 성적, dtype: object"
      ]
     },
     "execution_count": 8,
     "metadata": {},
     "output_type": "execute_result"
    }
   ],
   "source": [
    "grade = pd.Series(data=['임자연', 90, 100, 95, 100], index=['이름', '국어', '영어', '수학', '미술'], name='기말고사 성적')\n",
    "\n",
    "grade"
   ]
  },
  {
   "cell_type": "code",
   "execution_count": 9,
   "metadata": {},
   "outputs": [
    {
     "data": {
      "text/plain": [
       "array(['임자연', 90, 100, 95, 100], dtype=object)"
      ]
     },
     "execution_count": 9,
     "metadata": {},
     "output_type": "execute_result"
    }
   ],
   "source": [
    "grade.values"
   ]
  },
  {
   "cell_type": "code",
   "execution_count": 10,
   "metadata": {},
   "outputs": [
    {
     "data": {
      "text/plain": [
       "Index(['이름', '국어', '영어', '수학', '미술'], dtype='object')"
      ]
     },
     "execution_count": 10,
     "metadata": {},
     "output_type": "execute_result"
    }
   ],
   "source": [
    "grade.index"
   ]
  },
  {
   "cell_type": "code",
   "execution_count": 11,
   "metadata": {},
   "outputs": [
    {
     "data": {
      "text/plain": [
       "'기말고사 성적'"
      ]
     },
     "execution_count": 11,
     "metadata": {},
     "output_type": "execute_result"
    }
   ],
   "source": [
    "grade.name"
   ]
  },
  {
   "cell_type": "markdown",
   "metadata": {},
   "source": [
    "#### 판다스 시리즈 타입으로 전환\n",
    "\n",
    "- 리스트 -> pd.Series(data=[])\n",
    "- 딕셔너리 { key' : 'value' } -> pd.Series(data={})"
   ]
  },
  {
   "cell_type": "code",
   "execution_count": 12,
   "metadata": {},
   "outputs": [
    {
     "data": {
      "text/plain": [
       "dict"
      ]
     },
     "execution_count": 12,
     "metadata": {},
     "output_type": "execute_result"
    }
   ],
   "source": [
    "chedol_data = { '이름' : '임채돌', '국어' : 100, '영어' : 100, '수학' : 100, '미술' : 100 }\n",
    "type(chedol_data)"
   ]
  },
  {
   "cell_type": "code",
   "execution_count": 14,
   "metadata": {},
   "outputs": [
    {
     "data": {
      "text/plain": [
       "이름    임채돌\n",
       "국어    100\n",
       "영어    100\n",
       "수학    100\n",
       "미술    100\n",
       "dtype: object"
      ]
     },
     "execution_count": 14,
     "metadata": {},
     "output_type": "execute_result"
    }
   ],
   "source": [
    "# 리스트보다 딕셔너리로 데이터를 사용하는 것이 판다스 시리즈를 생성할 때 편리함\n",
    "grade2 = pd.Series(data=chedol_data)\n",
    "grade2"
   ]
  },
  {
   "cell_type": "code",
   "execution_count": 15,
   "metadata": {},
   "outputs": [
    {
     "data": {
      "text/plain": [
       "pandas.core.series.Series"
      ]
     },
     "execution_count": 15,
     "metadata": {},
     "output_type": "execute_result"
    }
   ],
   "source": [
    "type(grade2)"
   ]
  },
  {
   "cell_type": "markdown",
   "metadata": {},
   "source": [
    "# 중요!!!\n",
    "\n",
    "None(== Null), NaN => \"결측치\"라 부르고 결측치가 있으면 데이터 분석이 부정확 "
   ]
  },
  {
   "cell_type": "code",
   "execution_count": 21,
   "metadata": {},
   "outputs": [
    {
     "data": {
      "text/plain": [
       "이름      유고\n",
       "국어    None\n",
       "영어      10\n",
       "수학       0\n",
       "      None\n",
       "dtype: object"
      ]
     },
     "execution_count": 21,
     "metadata": {},
     "output_type": "execute_result"
    }
   ],
   "source": [
    "# (빅)데이터 분석에서 가장 조심해야 할 것 // None(결측치)\n",
    "grade3 = pd.Series(data=['유고', None, 10, 0, None], index=['이름', '국어', '영어', '수학', ''])\n",
    "grade3"
   ]
  },
  {
   "cell_type": "markdown",
   "metadata": {},
   "source": [
    "#### 재색인\n",
    "\n",
    "결측치가 있거나 인덱스가 잘못되었을 때 다시 정립하는 작업"
   ]
  },
  {
   "cell_type": "code",
   "execution_count": 22,
   "metadata": {},
   "outputs": [
    {
     "data": {
      "text/plain": [
       "이름      유고\n",
       "국어    None\n",
       "영어      10\n",
       "수학       0\n",
       "dtype: object"
      ]
     },
     "execution_count": 22,
     "metadata": {},
     "output_type": "execute_result"
    }
   ],
   "source": [
    "grade3.reindex(index=['이름', '국어', '영어', '수학'])"
   ]
  },
  {
   "cell_type": "code",
   "execution_count": 23,
   "metadata": {},
   "outputs": [
    {
     "data": {
      "text/plain": [
       "이름      유고\n",
       "국어    None\n",
       "영어      10\n",
       "수학       0\n",
       "      None\n",
       "dtype: object"
      ]
     },
     "execution_count": 23,
     "metadata": {},
     "output_type": "execute_result"
    }
   ],
   "source": [
    "# 원본 데이터가 바뀐 것은 아님\n",
    "grade3"
   ]
  },
  {
   "cell_type": "code",
   "execution_count": 25,
   "metadata": {},
   "outputs": [
    {
     "data": {
      "text/plain": [
       "이름      유고\n",
       "국어    None\n",
       "영어      10\n",
       "수학       0\n",
       "dtype: object"
      ]
     },
     "execution_count": 25,
     "metadata": {},
     "output_type": "execute_result"
    }
   ],
   "source": [
    "# 재할당\n",
    "grade4 = grade3.reindex(index=['이름', '국어', '영어', '수학'])\n",
    "grade4"
   ]
  },
  {
   "cell_type": "code",
   "execution_count": 33,
   "metadata": {},
   "outputs": [
    {
     "data": {
      "text/plain": [
       "이름      유고\n",
       "국어    None\n",
       "영어      10\n",
       "수학       0\n",
       "미술     NaN\n",
       "dtype: object"
      ]
     },
     "execution_count": 33,
     "metadata": {},
     "output_type": "execute_result"
    }
   ],
   "source": [
    "grade5 = grade3.reindex(index=['이름', '국어', '영어', '수학', '미술'])\n",
    "grade5"
   ]
  },
  {
   "cell_type": "markdown",
   "metadata": {},
   "source": [
    "^None과 NaN은 같은 것"
   ]
  },
  {
   "cell_type": "code",
   "execution_count": 29,
   "metadata": {},
   "outputs": [
    {
     "data": {
      "text/plain": [
       "count      3\n",
       "unique     3\n",
       "top       유고\n",
       "freq       1\n",
       "dtype: object"
      ]
     },
     "execution_count": 29,
     "metadata": {},
     "output_type": "execute_result"
    }
   ],
   "source": [
    "grade5.describe()"
   ]
  },
  {
   "cell_type": "markdown",
   "metadata": {},
   "source": [
    "#### 결측치 없애기\n",
    "- reindex() 메서드 fill_vlaue 속성 => None, NaN 동시 처리 안 됨\n",
    "- 만들어진 시리즈 fillna(0) => None, NaN 동시 처리 됨\n",
    "\n",
    "#### inplace 속성!!!!\n",
    "- 지금 내가 처리하는 기능으로 값을 완전 대체해줌 (commit과 동일)\n",
    "- 모든 함수에 존재하지는 않음"
   ]
  },
  {
   "cell_type": "code",
   "execution_count": 35,
   "metadata": {},
   "outputs": [
    {
     "data": {
      "text/plain": [
       "이름      유고\n",
       "국어    None\n",
       "영어      10\n",
       "수학       0\n",
       "미술       0\n",
       "dtype: object"
      ]
     },
     "execution_count": 35,
     "metadata": {},
     "output_type": "execute_result"
    }
   ],
   "source": [
    "# 결측치 없애기 1\n",
    "grade6 = grade3.reindex(index=['이름', '국어', '영어', '수학', '미술'], fill_value=0)\n",
    "grade6"
   ]
  },
  {
   "cell_type": "code",
   "execution_count": 37,
   "metadata": {},
   "outputs": [
    {
     "data": {
      "text/plain": [
       "이름    유고\n",
       "국어     0\n",
       "영어    10\n",
       "수학     0\n",
       "미술     0\n",
       "dtype: object"
      ]
     },
     "execution_count": 37,
     "metadata": {},
     "output_type": "execute_result"
    }
   ],
   "source": [
    "# 결측치 없애기 2\n",
    "grade7 = grade3.reindex(index=['이름', '국어', '영어', '수학', '미술'])\n",
    "grade7.fillna(0)"
   ]
  },
  {
   "cell_type": "code",
   "execution_count": 38,
   "metadata": {},
   "outputs": [
    {
     "data": {
      "text/plain": [
       "이름      유고\n",
       "국어    None\n",
       "영어      10\n",
       "수학       0\n",
       "미술     NaN\n",
       "dtype: object"
      ]
     },
     "execution_count": 38,
     "metadata": {},
     "output_type": "execute_result"
    }
   ],
   "source": [
    "grade7"
   ]
  },
  {
   "cell_type": "code",
   "execution_count": 40,
   "metadata": {},
   "outputs": [
    {
     "data": {
      "text/plain": [
       "이름    유고\n",
       "국어     0\n",
       "영어    10\n",
       "수학     0\n",
       "미술     0\n",
       "dtype: object"
      ]
     },
     "execution_count": 40,
     "metadata": {},
     "output_type": "execute_result"
    }
   ],
   "source": [
    "grade7.fillna(0, inplace=True)\n",
    "grade7"
   ]
  },
  {
   "cell_type": "markdown",
   "metadata": {},
   "source": [
    "#### 이름변경\n",
    "\n",
    "인덱스의 이름을 변경해주는 기능"
   ]
  },
  {
   "cell_type": "code",
   "execution_count": 43,
   "metadata": {},
   "outputs": [
    {
     "data": {
      "text/plain": [
       "name      유고\n",
       "Kor     None\n",
       "Eng       10\n",
       "Math       0\n",
       "Art     None\n",
       "dtype: object"
      ]
     },
     "execution_count": 43,
     "metadata": {},
     "output_type": "execute_result"
    }
   ],
   "source": [
    "# column명 변경 (inplace 속성 사용 안 하면 일시적으로만 변경되어 보임)\n",
    "grade3.rename({'이름' : 'name', '국어' : 'Kor', '수학' : 'Math', '영어' : 'Eng', '' : 'Art'}, inplace=True)\n",
    "grade3"
   ]
  },
  {
   "cell_type": "markdown",
   "metadata": {},
   "source": [
    "핸들링!!!\n",
    "#### 판다스 시리즈 요소 제어\n",
    "\n",
    "파이썬 리스트(배열) 요소 접근방법과 유사"
   ]
  },
  {
   "cell_type": "code",
   "execution_count": 44,
   "metadata": {},
   "outputs": [
    {
     "data": {
      "text/plain": [
       "'임자연'"
      ]
     },
     "execution_count": 44,
     "metadata": {},
     "output_type": "execute_result"
    }
   ],
   "source": [
    "grade[0]"
   ]
  },
  {
   "cell_type": "code",
   "execution_count": 45,
   "metadata": {},
   "outputs": [
    {
     "data": {
      "text/plain": [
       "'임자연'"
      ]
     },
     "execution_count": 45,
     "metadata": {},
     "output_type": "execute_result"
    }
   ],
   "source": [
    "grade['이름']"
   ]
  },
  {
   "cell_type": "code",
   "execution_count": 47,
   "metadata": {},
   "outputs": [
    {
     "name": "stdout",
     "output_type": "stream",
     "text": [
      "100\n",
      "100\n"
     ]
    }
   ],
   "source": [
    "print(grade[2])\n",
    "print(grade['영어'])"
   ]
  },
  {
   "cell_type": "code",
   "execution_count": 49,
   "metadata": {},
   "outputs": [
    {
     "data": {
      "text/plain": [
       "100"
      ]
     },
     "execution_count": 49,
     "metadata": {},
     "output_type": "execute_result"
    }
   ],
   "source": [
    "# loc (로케이션) 속성 ; 현재 지정된 인덱스 명으로 찾음 / 숫자는 안 됨\n",
    "grade.loc['영어']"
   ]
  },
  {
   "cell_type": "markdown",
   "metadata": {},
   "source": [
    "#### 시리즈에서 인덱스 변경\n",
    "\n",
    "변경된 데이터만 임시 출력"
   ]
  },
  {
   "cell_type": "code",
   "execution_count": 51,
   "metadata": {},
   "outputs": [
    {
     "data": {
      "text/plain": [
       "이름    임자연\n",
       "미술    100\n",
       "Name: 기말고사 성적, dtype: object"
      ]
     },
     "execution_count": 51,
     "metadata": {},
     "output_type": "execute_result"
    }
   ],
   "source": [
    "grade[['이름', '미술']]"
   ]
  },
  {
   "cell_type": "code",
   "execution_count": 53,
   "metadata": {},
   "outputs": [
    {
     "data": {
      "text/plain": [
       "이름    임자연\n",
       "미술    100\n",
       "Name: 기말고사 성적, dtype: object"
      ]
     },
     "execution_count": 53,
     "metadata": {},
     "output_type": "execute_result"
    }
   ],
   "source": [
    "grade.reindex(index=['이름', '미술'])"
   ]
  },
  {
   "cell_type": "code",
   "execution_count": 54,
   "metadata": {},
   "outputs": [
    {
     "data": {
      "text/plain": [
       "이름    임자연\n",
       "국어     90\n",
       "영어    100\n",
       "수학     95\n",
       "미술    100\n",
       "Name: 기말고사 성적, dtype: object"
      ]
     },
     "execution_count": 54,
     "metadata": {},
     "output_type": "execute_result"
    }
   ],
   "source": [
    "grade"
   ]
  },
  {
   "cell_type": "code",
   "execution_count": 55,
   "metadata": {},
   "outputs": [
    {
     "data": {
      "text/plain": [
       "이름    False\n",
       "국어    False\n",
       "영어    False\n",
       "수학    False\n",
       "미술    False\n",
       "Name: 기말고사 성적, dtype: bool"
      ]
     },
     "execution_count": 55,
     "metadata": {},
     "output_type": "execute_result"
    }
   ],
   "source": [
    "grade.isnull()"
   ]
  },
  {
   "cell_type": "code",
   "execution_count": 56,
   "metadata": {},
   "outputs": [
    {
     "data": {
      "text/plain": [
       "name    False\n",
       "Kor      True\n",
       "Eng     False\n",
       "Math    False\n",
       "Art      True\n",
       "dtype: bool"
      ]
     },
     "execution_count": 56,
     "metadata": {},
     "output_type": "execute_result"
    }
   ],
   "source": [
    "grade3.isnull()"
   ]
  },
  {
   "cell_type": "code",
   "execution_count": 57,
   "metadata": {},
   "outputs": [
    {
     "data": {
      "text/plain": [
       "name     True\n",
       "Kor     False\n",
       "Eng      True\n",
       "Math     True\n",
       "Art     False\n",
       "dtype: bool"
      ]
     },
     "execution_count": 57,
     "metadata": {},
     "output_type": "execute_result"
    }
   ],
   "source": [
    "grade3.notnull()"
   ]
  },
  {
   "cell_type": "code",
   "execution_count": 58,
   "metadata": {},
   "outputs": [
    {
     "data": {
      "text/plain": [
       "name      유고\n",
       "Kor       40\n",
       "Eng       10\n",
       "Math       0\n",
       "Art     None\n",
       "dtype: object"
      ]
     },
     "execution_count": 58,
     "metadata": {},
     "output_type": "execute_result"
    }
   ],
   "source": [
    "grade3['Kor'] = 40\n",
    "grade3"
   ]
  },
  {
   "cell_type": "code",
   "execution_count": 60,
   "metadata": {},
   "outputs": [],
   "source": [
    "grade8 = grade3"
   ]
  },
  {
   "cell_type": "code",
   "execution_count": 62,
   "metadata": {},
   "outputs": [],
   "source": [
    "del grade8['Math']"
   ]
  },
  {
   "cell_type": "code",
   "execution_count": 63,
   "metadata": {},
   "outputs": [
    {
     "data": {
      "text/plain": [
       "name      유고\n",
       "Kor       40\n",
       "Eng       10\n",
       "Art     None\n",
       "dtype: object"
      ]
     },
     "execution_count": 63,
     "metadata": {},
     "output_type": "execute_result"
    }
   ],
   "source": [
    "grade8"
   ]
  },
  {
   "cell_type": "code",
   "execution_count": 64,
   "metadata": {},
   "outputs": [
    {
     "data": {
      "text/plain": [
       "name      유고\n",
       "Kor       40\n",
       "Art     None\n",
       "dtype: object"
      ]
     },
     "execution_count": 64,
     "metadata": {},
     "output_type": "execute_result"
    }
   ],
   "source": [
    "grade8.drop('Eng')"
   ]
  },
  {
   "cell_type": "code",
   "execution_count": 66,
   "metadata": {},
   "outputs": [
    {
     "data": {
      "text/plain": [
       "name      유고\n",
       "Kor       40\n",
       "Eng       10\n",
       "Art     None\n",
       "dtype: object"
      ]
     },
     "execution_count": 66,
     "metadata": {},
     "output_type": "execute_result"
    }
   ],
   "source": [
    "grade8"
   ]
  },
  {
   "cell_type": "code",
   "execution_count": 70,
   "metadata": {},
   "outputs": [],
   "source": [
    "# inplace True로 하면 완전히 대체되어 지워짐\n",
    "grade8.drop('Art', inplace=True)"
   ]
  },
  {
   "cell_type": "code",
   "execution_count": 71,
   "metadata": {},
   "outputs": [
    {
     "data": {
      "text/plain": [
       "name    유고\n",
       "Kor     40\n",
       "dtype: object"
      ]
     },
     "execution_count": 71,
     "metadata": {},
     "output_type": "execute_result"
    }
   ],
   "source": [
    "grade8"
   ]
  }
 ],
 "metadata": {
  "kernelspec": {
   "display_name": "Python 3",
   "language": "python",
   "name": "python3"
  },
  "language_info": {
   "codemirror_mode": {
    "name": "ipython",
    "version": 3
   },
   "file_extension": ".py",
   "mimetype": "text/x-python",
   "name": "python",
   "nbconvert_exporter": "python",
   "pygments_lexer": "ipython3",
   "version": "3.11.2"
  },
  "orig_nbformat": 4
 },
 "nbformat": 4,
 "nbformat_minor": 2
}
